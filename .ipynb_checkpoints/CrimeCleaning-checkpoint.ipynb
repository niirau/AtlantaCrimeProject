{
 "cells": [
  {
   "cell_type": "code",
   "execution_count": 1,
   "id": "881b958e",
   "metadata": {},
   "outputs": [],
   "source": [
    "import pandas as pd\n",
    "import sys"
   ]
  },
  {
   "cell_type": "code",
   "execution_count": 2,
   "id": "0a1cdc79",
   "metadata": {},
   "outputs": [],
   "source": [
    "crime = pd.read_csv('datasets/atlcrime.csv', low_memory = False)"
   ]
  },
  {
   "cell_type": "code",
   "execution_count": 3,
   "id": "d18eea0f",
   "metadata": {},
   "outputs": [
    {
     "data": {
      "text/html": [
       "<div>\n",
       "<style scoped>\n",
       "    .dataframe tbody tr th:only-of-type {\n",
       "        vertical-align: middle;\n",
       "    }\n",
       "\n",
       "    .dataframe tbody tr th {\n",
       "        vertical-align: top;\n",
       "    }\n",
       "\n",
       "    .dataframe thead th {\n",
       "        text-align: right;\n",
       "    }\n",
       "</style>\n",
       "<table border=\"1\" class=\"dataframe\">\n",
       "  <thead>\n",
       "    <tr style=\"text-align: right;\">\n",
       "      <th></th>\n",
       "      <th>Unnamed: 0</th>\n",
       "      <th>crime</th>\n",
       "      <th>number</th>\n",
       "      <th>date</th>\n",
       "      <th>location</th>\n",
       "      <th>beat</th>\n",
       "      <th>neighborhood</th>\n",
       "      <th>npu</th>\n",
       "      <th>lat</th>\n",
       "      <th>long</th>\n",
       "    </tr>\n",
       "  </thead>\n",
       "  <tbody>\n",
       "    <tr>\n",
       "      <th>0</th>\n",
       "      <td>0</td>\n",
       "      <td>LARCENY-NON VEHICLE</td>\n",
       "      <td>103040029</td>\n",
       "      <td>10/31/2010</td>\n",
       "      <td>610 SPRING ST NW</td>\n",
       "      <td>509</td>\n",
       "      <td>Downtown</td>\n",
       "      <td>M</td>\n",
       "      <td>33.77101</td>\n",
       "      <td>-84.38895</td>\n",
       "    </tr>\n",
       "    <tr>\n",
       "      <th>1</th>\n",
       "      <td>1</td>\n",
       "      <td>AUTO THEFT</td>\n",
       "      <td>103040061</td>\n",
       "      <td>10/31/2010</td>\n",
       "      <td>850 OAK ST SW</td>\n",
       "      <td>401</td>\n",
       "      <td>West End</td>\n",
       "      <td>T</td>\n",
       "      <td>33.74057</td>\n",
       "      <td>-84.41680</td>\n",
       "    </tr>\n",
       "    <tr>\n",
       "      <th>2</th>\n",
       "      <td>2</td>\n",
       "      <td>LARCENY-FROM VEHICLE</td>\n",
       "      <td>103040169</td>\n",
       "      <td>10/31/2010</td>\n",
       "      <td>1344 METROPOLITAN PKWY SW</td>\n",
       "      <td>301</td>\n",
       "      <td>Capitol View Manor</td>\n",
       "      <td>X</td>\n",
       "      <td>33.71803</td>\n",
       "      <td>-84.40774</td>\n",
       "    </tr>\n",
       "    <tr>\n",
       "      <th>3</th>\n",
       "      <td>3</td>\n",
       "      <td>AUTO THEFT</td>\n",
       "      <td>103040174</td>\n",
       "      <td>10/31/2010</td>\n",
       "      <td>1752 PRYOR RD SW</td>\n",
       "      <td>307</td>\n",
       "      <td>Betmar LaVilla</td>\n",
       "      <td>Y</td>\n",
       "      <td>33.70731</td>\n",
       "      <td>-84.39674</td>\n",
       "    </tr>\n",
       "    <tr>\n",
       "      <th>4</th>\n",
       "      <td>4</td>\n",
       "      <td>LARCENY-NON VEHICLE</td>\n",
       "      <td>103040301</td>\n",
       "      <td>10/31/2010</td>\n",
       "      <td>JOHN WESLEY DOBBS AVE NE / CORLEY ST NE</td>\n",
       "      <td>604</td>\n",
       "      <td>Old Fourth Ward</td>\n",
       "      <td>M</td>\n",
       "      <td>33.75947</td>\n",
       "      <td>-84.36626</td>\n",
       "    </tr>\n",
       "  </tbody>\n",
       "</table>\n",
       "</div>"
      ],
      "text/plain": [
       "   Unnamed: 0                 crime     number        date  \\\n",
       "0           0   LARCENY-NON VEHICLE  103040029  10/31/2010   \n",
       "1           1            AUTO THEFT  103040061  10/31/2010   \n",
       "2           2  LARCENY-FROM VEHICLE  103040169  10/31/2010   \n",
       "3           3            AUTO THEFT  103040174  10/31/2010   \n",
       "4           4   LARCENY-NON VEHICLE  103040301  10/31/2010   \n",
       "\n",
       "                                  location beat        neighborhood npu  \\\n",
       "0                         610 SPRING ST NW  509            Downtown   M   \n",
       "1                            850 OAK ST SW  401            West End   T   \n",
       "2                1344 METROPOLITAN PKWY SW  301  Capitol View Manor   X   \n",
       "3                         1752 PRYOR RD SW  307      Betmar LaVilla   Y   \n",
       "4  JOHN WESLEY DOBBS AVE NE / CORLEY ST NE  604     Old Fourth Ward   M   \n",
       "\n",
       "        lat      long  \n",
       "0  33.77101 -84.38895  \n",
       "1  33.74057 -84.41680  \n",
       "2  33.71803 -84.40774  \n",
       "3  33.70731 -84.39674  \n",
       "4  33.75947 -84.36626  "
      ]
     },
     "execution_count": 3,
     "metadata": {},
     "output_type": "execute_result"
    }
   ],
   "source": [
    "crime.head()"
   ]
  },
  {
   "cell_type": "code",
   "execution_count": 4,
   "id": "208fbae7",
   "metadata": {},
   "outputs": [],
   "source": [
    "crime.drop(['number','Unnamed: 0'],inplace=True, axis=1)"
   ]
  },
  {
   "cell_type": "code",
   "execution_count": 5,
   "id": "d3ffd199",
   "metadata": {},
   "outputs": [],
   "source": [
    "crime['date'] = pd.to_datetime(crime['date'], format='%m/%d/%Y')"
   ]
  },
  {
   "cell_type": "code",
   "execution_count": 6,
   "id": "c0e3a4ca",
   "metadata": {},
   "outputs": [],
   "source": [
    "crime_no_neighborhood = crime[crime.isnull().values]"
   ]
  },
  {
   "cell_type": "code",
   "execution_count": 7,
   "id": "8e0e7059",
   "metadata": {},
   "outputs": [],
   "source": [
    "crime = crime.dropna()"
   ]
  },
  {
   "cell_type": "code",
   "execution_count": 8,
   "id": "ac1aa462",
   "metadata": {},
   "outputs": [
    {
     "data": {
      "text/plain": [
       "crime                   object\n",
       "date            datetime64[ns]\n",
       "location                object\n",
       "beat                    object\n",
       "neighborhood            object\n",
       "npu                     object\n",
       "lat                    float64\n",
       "long                   float64\n",
       "dtype: object"
      ]
     },
     "execution_count": 8,
     "metadata": {},
     "output_type": "execute_result"
    }
   ],
   "source": [
    "crime.dtypes"
   ]
  },
  {
   "cell_type": "code",
   "execution_count": 9,
   "id": "e1c6ec18",
   "metadata": {},
   "outputs": [
    {
     "data": {
      "text/plain": [
       "crime           0\n",
       "date            0\n",
       "location        0\n",
       "beat            0\n",
       "neighborhood    0\n",
       "npu             0\n",
       "lat             0\n",
       "long            0\n",
       "dtype: int64"
      ]
     },
     "execution_count": 9,
     "metadata": {},
     "output_type": "execute_result"
    }
   ],
   "source": [
    "crime.isnull().sum()"
   ]
  },
  {
   "cell_type": "code",
   "execution_count": 10,
   "id": "34bb7fc4",
   "metadata": {},
   "outputs": [
    {
     "data": {
      "text/plain": [
       "crime           0.0\n",
       "date            0.0\n",
       "location        0.0\n",
       "beat            0.0\n",
       "neighborhood    0.0\n",
       "npu             0.0\n",
       "lat             0.0\n",
       "long            0.0\n",
       "dtype: float64"
      ]
     },
     "execution_count": 10,
     "metadata": {},
     "output_type": "execute_result"
    }
   ],
   "source": [
    "crime.isnull().sum()/crime.count()"
   ]
  },
  {
   "cell_type": "code",
   "execution_count": 12,
   "id": "ed05e552",
   "metadata": {},
   "outputs": [
    {
     "data": {
      "text/plain": [
       "(13858, 8)"
      ]
     },
     "execution_count": 12,
     "metadata": {},
     "output_type": "execute_result"
    }
   ],
   "source": [
    "crime_no_neighborhood.shape"
   ]
  },
  {
   "cell_type": "code",
   "execution_count": 17,
   "id": "3edd45ec",
   "metadata": {},
   "outputs": [],
   "source": [
    "import sqlalchemy\n",
    "connection_url = sqlalchemy.engine.URL.create(\n",
    "    \"mssql+pyodbc\",\n",
    "    username='sa',\n",
    "    password='Strong password',\n",
    "    host='localhost',\n",
    "    database=\"CrimeTimeDW\",\n",
    "    query={\n",
    "        \"driver\": \"ODBC Driver 17 for SQL Server\",\n",
    "        # \"authentication\": \"ActiveDirectoryIntegrated\",\n",
    "    }\n",
    ")\n",
    "engine = sqlalchemy.create_engine(connection_url)"
   ]
  },
  {
   "cell_type": "code",
   "execution_count": null,
   "id": "308eaf8c",
   "metadata": {},
   "outputs": [],
   "source": [
    "crime.to_sql('crime', con=engine, if_exists='replace', method='multi')\n"
   ]
  },
  {
   "cell_type": "code",
   "execution_count": null,
   "id": "07ca03b7",
   "metadata": {},
   "outputs": [],
   "source": []
  }
 ],
 "metadata": {
  "kernelspec": {
   "display_name": "Python 3 (ipykernel)",
   "language": "python",
   "name": "python3"
  },
  "language_info": {
   "codemirror_mode": {
    "name": "ipython",
    "version": 3
   },
   "file_extension": ".py",
   "mimetype": "text/x-python",
   "name": "python",
   "nbconvert_exporter": "python",
   "pygments_lexer": "ipython3",
   "version": "3.9.7"
  }
 },
 "nbformat": 4,
 "nbformat_minor": 5
}
