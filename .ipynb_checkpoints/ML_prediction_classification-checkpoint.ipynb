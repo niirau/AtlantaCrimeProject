{
 "cells": [
  {
   "cell_type": "code",
   "execution_count": 1,
   "metadata": {},
   "outputs": [
    {
     "name": "stdout",
     "output_type": "stream",
     "text": [
      "Loading Data\n"
     ]
    },
    {
     "data": {
      "text/html": [
       "<div>\n",
       "<style scoped>\n",
       "    .dataframe tbody tr th:only-of-type {\n",
       "        vertical-align: middle;\n",
       "    }\n",
       "\n",
       "    .dataframe tbody tr th {\n",
       "        vertical-align: top;\n",
       "    }\n",
       "\n",
       "    .dataframe thead th {\n",
       "        text-align: right;\n",
       "    }\n",
       "</style>\n",
       "<table border=\"1\" class=\"dataframe\">\n",
       "  <thead>\n",
       "    <tr style=\"text-align: right;\">\n",
       "      <th></th>\n",
       "      <th>PatientID</th>\n",
       "      <th>Pregnancies</th>\n",
       "      <th>PlasmaGlucose</th>\n",
       "      <th>DiastolicBloodPressure</th>\n",
       "      <th>TricepsThickness</th>\n",
       "      <th>SerumInsulin</th>\n",
       "      <th>BMI</th>\n",
       "      <th>DiabetesPedigree</th>\n",
       "      <th>Age</th>\n",
       "      <th>Diabetic</th>\n",
       "    </tr>\n",
       "  </thead>\n",
       "  <tbody>\n",
       "    <tr>\n",
       "      <th>0</th>\n",
       "      <td>1354778</td>\n",
       "      <td>0</td>\n",
       "      <td>171</td>\n",
       "      <td>80</td>\n",
       "      <td>34</td>\n",
       "      <td>23</td>\n",
       "      <td>43.509726</td>\n",
       "      <td>1.213191</td>\n",
       "      <td>21</td>\n",
       "      <td>0</td>\n",
       "    </tr>\n",
       "    <tr>\n",
       "      <th>1</th>\n",
       "      <td>1147438</td>\n",
       "      <td>8</td>\n",
       "      <td>92</td>\n",
       "      <td>93</td>\n",
       "      <td>47</td>\n",
       "      <td>36</td>\n",
       "      <td>21.240576</td>\n",
       "      <td>0.158365</td>\n",
       "      <td>23</td>\n",
       "      <td>0</td>\n",
       "    </tr>\n",
       "    <tr>\n",
       "      <th>2</th>\n",
       "      <td>1640031</td>\n",
       "      <td>7</td>\n",
       "      <td>115</td>\n",
       "      <td>47</td>\n",
       "      <td>52</td>\n",
       "      <td>35</td>\n",
       "      <td>41.511523</td>\n",
       "      <td>0.079019</td>\n",
       "      <td>23</td>\n",
       "      <td>0</td>\n",
       "    </tr>\n",
       "    <tr>\n",
       "      <th>3</th>\n",
       "      <td>1883350</td>\n",
       "      <td>9</td>\n",
       "      <td>103</td>\n",
       "      <td>78</td>\n",
       "      <td>25</td>\n",
       "      <td>304</td>\n",
       "      <td>29.582192</td>\n",
       "      <td>1.282870</td>\n",
       "      <td>43</td>\n",
       "      <td>1</td>\n",
       "    </tr>\n",
       "    <tr>\n",
       "      <th>4</th>\n",
       "      <td>1424119</td>\n",
       "      <td>1</td>\n",
       "      <td>85</td>\n",
       "      <td>59</td>\n",
       "      <td>27</td>\n",
       "      <td>35</td>\n",
       "      <td>42.604536</td>\n",
       "      <td>0.549542</td>\n",
       "      <td>22</td>\n",
       "      <td>0</td>\n",
       "    </tr>\n",
       "    <tr>\n",
       "      <th>...</th>\n",
       "      <td>...</td>\n",
       "      <td>...</td>\n",
       "      <td>...</td>\n",
       "      <td>...</td>\n",
       "      <td>...</td>\n",
       "      <td>...</td>\n",
       "      <td>...</td>\n",
       "      <td>...</td>\n",
       "      <td>...</td>\n",
       "      <td>...</td>\n",
       "    </tr>\n",
       "    <tr>\n",
       "      <th>9995</th>\n",
       "      <td>1469198</td>\n",
       "      <td>6</td>\n",
       "      <td>95</td>\n",
       "      <td>85</td>\n",
       "      <td>37</td>\n",
       "      <td>267</td>\n",
       "      <td>18.497542</td>\n",
       "      <td>0.660240</td>\n",
       "      <td>31</td>\n",
       "      <td>0</td>\n",
       "    </tr>\n",
       "    <tr>\n",
       "      <th>9996</th>\n",
       "      <td>1432736</td>\n",
       "      <td>0</td>\n",
       "      <td>55</td>\n",
       "      <td>51</td>\n",
       "      <td>7</td>\n",
       "      <td>50</td>\n",
       "      <td>21.865341</td>\n",
       "      <td>0.086589</td>\n",
       "      <td>34</td>\n",
       "      <td>0</td>\n",
       "    </tr>\n",
       "    <tr>\n",
       "      <th>9997</th>\n",
       "      <td>1410962</td>\n",
       "      <td>5</td>\n",
       "      <td>99</td>\n",
       "      <td>59</td>\n",
       "      <td>47</td>\n",
       "      <td>67</td>\n",
       "      <td>30.774018</td>\n",
       "      <td>2.301594</td>\n",
       "      <td>43</td>\n",
       "      <td>1</td>\n",
       "    </tr>\n",
       "    <tr>\n",
       "      <th>9998</th>\n",
       "      <td>1958653</td>\n",
       "      <td>0</td>\n",
       "      <td>145</td>\n",
       "      <td>67</td>\n",
       "      <td>30</td>\n",
       "      <td>21</td>\n",
       "      <td>18.811861</td>\n",
       "      <td>0.789572</td>\n",
       "      <td>26</td>\n",
       "      <td>0</td>\n",
       "    </tr>\n",
       "    <tr>\n",
       "      <th>9999</th>\n",
       "      <td>1332938</td>\n",
       "      <td>10</td>\n",
       "      <td>100</td>\n",
       "      <td>54</td>\n",
       "      <td>34</td>\n",
       "      <td>27</td>\n",
       "      <td>38.840943</td>\n",
       "      <td>0.175465</td>\n",
       "      <td>23</td>\n",
       "      <td>0</td>\n",
       "    </tr>\n",
       "  </tbody>\n",
       "</table>\n",
       "<p>10000 rows × 10 columns</p>\n",
       "</div>"
      ],
      "text/plain": [
       "      PatientID  Pregnancies  PlasmaGlucose  DiastolicBloodPressure  \\\n",
       "0       1354778            0            171                      80   \n",
       "1       1147438            8             92                      93   \n",
       "2       1640031            7            115                      47   \n",
       "3       1883350            9            103                      78   \n",
       "4       1424119            1             85                      59   \n",
       "...         ...          ...            ...                     ...   \n",
       "9995    1469198            6             95                      85   \n",
       "9996    1432736            0             55                      51   \n",
       "9997    1410962            5             99                      59   \n",
       "9998    1958653            0            145                      67   \n",
       "9999    1332938           10            100                      54   \n",
       "\n",
       "      TricepsThickness  SerumInsulin        BMI  DiabetesPedigree  Age  \\\n",
       "0                   34            23  43.509726          1.213191   21   \n",
       "1                   47            36  21.240576          0.158365   23   \n",
       "2                   52            35  41.511523          0.079019   23   \n",
       "3                   25           304  29.582192          1.282870   43   \n",
       "4                   27            35  42.604536          0.549542   22   \n",
       "...                ...           ...        ...               ...  ...   \n",
       "9995                37           267  18.497542          0.660240   31   \n",
       "9996                 7            50  21.865341          0.086589   34   \n",
       "9997                47            67  30.774018          2.301594   43   \n",
       "9998                30            21  18.811861          0.789572   26   \n",
       "9999                34            27  38.840943          0.175465   23   \n",
       "\n",
       "      Diabetic  \n",
       "0            0  \n",
       "1            0  \n",
       "2            0  \n",
       "3            1  \n",
       "4            0  \n",
       "...        ...  \n",
       "9995         0  \n",
       "9996         0  \n",
       "9997         1  \n",
       "9998         0  \n",
       "9999         0  \n",
       "\n",
       "[10000 rows x 10 columns]"
      ]
     },
     "execution_count": 1,
     "metadata": {},
     "output_type": "execute_result"
    }
   ],
   "source": [
    "import pandas as pd\n",
    "import numpy as np\n",
    "import joblib\n",
    "import os\n",
    "from sklearn.model_selection import train_test_split\n",
    "from sklearn.linear_model import LogisticRegression\n",
    "from sklearn.metrics import roc_auc_score\n",
    "from sklearn.metrics import roc_curve\n",
    "\n",
    "# Get the experiment run context\n",
    "\n",
    "# load the diabetes dataset\n",
    "print(\"Loading Data\")\n",
    "diabetes = pd.read_csv('c:\\\\apu\\\\diabetes.csv')\n",
    "\n",
    "diabetes"
   ]
  },
  {
   "cell_type": "code",
   "execution_count": 3,
   "metadata": {},
   "outputs": [
    {
     "name": "stdout",
     "output_type": "stream",
     "text": [
      "[[0.00000000e+00 1.71000000e+02 8.00000000e+01 ... 4.35097259e+01\n",
      "  1.21319135e+00 2.10000000e+01]\n",
      " [8.00000000e+00 9.20000000e+01 9.30000000e+01 ... 2.12405757e+01\n",
      "  1.58364981e-01 2.30000000e+01]\n",
      " [7.00000000e+00 1.15000000e+02 4.70000000e+01 ... 4.15115235e+01\n",
      "  7.90185680e-02 2.30000000e+01]\n",
      " ...\n",
      " [5.00000000e+00 9.90000000e+01 5.90000000e+01 ... 3.07740178e+01\n",
      "  2.30159419e+00 4.30000000e+01]\n",
      " [0.00000000e+00 1.45000000e+02 6.70000000e+01 ... 1.88118606e+01\n",
      "  7.89572255e-01 2.60000000e+01]\n",
      " [1.00000000e+01 1.00000000e+02 5.40000000e+01 ... 3.88409428e+01\n",
      "  1.75464759e-01 2.30000000e+01]]\n",
      "[0 0 0 ... 1 0 0]\n"
     ]
    }
   ],
   "source": [
    "# Separate features and labels\n",
    "X, y = diabetes[['Pregnancies','PlasmaGlucose','DiastolicBloodPressure','TricepsThickness','SerumInsulin','BMI','DiabetesPedigree','Age']].values, diabetes['Diabetic'].values\n",
    "print(X)\n",
    "print(y)"
   ]
  },
  {
   "cell_type": "code",
   "execution_count": 6,
   "metadata": {},
   "outputs": [
    {
     "data": {
      "text/plain": [
       "array([[0.00000000e+00, 9.30000000e+01, 8.20000000e+01, ...,\n",
       "        2.01689606e+01, 2.95155067e-01, 2.40000000e+01],\n",
       "       [6.00000000e+00, 1.47000000e+02, 9.10000000e+01, ...,\n",
       "        2.12930966e+01, 1.07699562e-01, 2.20000000e+01],\n",
       "       [2.00000000e+00, 1.12000000e+02, 7.60000000e+01, ...,\n",
       "        4.11044685e+01, 5.36948882e-01, 4.50000000e+01],\n",
       "       ...,\n",
       "       [1.00000000e+00, 8.90000000e+01, 6.80000000e+01, ...,\n",
       "        2.08935272e+01, 4.26879223e-01, 2.10000000e+01],\n",
       "       [1.00000000e+00, 6.50000000e+01, 6.20000000e+01, ...,\n",
       "        2.17633987e+01, 8.64349166e-01, 4.60000000e+01],\n",
       "       [3.00000000e+00, 1.63000000e+02, 3.90000000e+01, ...,\n",
       "        3.58990159e+01, 1.89315403e+00, 4.80000000e+01]])"
      ]
     },
     "execution_count": 6,
     "metadata": {},
     "output_type": "execute_result"
    }
   ],
   "source": [
    "# Split data into training set and test set:\n",
    "X_train, X_test, y_train, y_test = train_test_split(X, y, test_size=0.30, random_state=0)\n",
    "#<<<<<<<<<<<<<<<<<<<<< Your code\n"
   ]
  },
  {
   "cell_type": "code",
   "execution_count": 11,
   "metadata": {},
   "outputs": [],
   "source": [
    "# Set regularization hyperparameter\n",
    "reg = 0.01\n",
    "# Use this model for prediction: LogisticRegression(C=1/reg, solver=\"liblinear\")\n",
    "\n",
    "model = LogisticRegression(C=1/reg, solver=\"liblinear\").fit(X_train, y_train)\n",
    "\n",
    "\n",
    "#<<<<<<<<<<<<<<<<<<<<< Your code\n"
   ]
  },
  {
   "cell_type": "code",
   "execution_count": 12,
   "metadata": {},
   "outputs": [
    {
     "name": "stdout",
     "output_type": "stream",
     "text": [
      "Accuracy: 0.774\n"
     ]
    }
   ],
   "source": [
    "# calculate accuracy\n",
    "y_hat = model.predict(X_test)\n",
    "acc = np.average(y_hat == y_test)\n",
    "print('Accuracy:', acc)\n"
   ]
  },
  {
   "cell_type": "code",
   "execution_count": 13,
   "metadata": {},
   "outputs": [
    {
     "name": "stdout",
     "output_type": "stream",
     "text": [
      "AUC: 0.8484636051544853\n"
     ]
    }
   ],
   "source": [
    "# calculate AUC\n",
    "y_scores = model.predict_proba(X_test)\n",
    "auc = roc_auc_score(y_test,y_scores[:,1])\n",
    "print('AUC: ' + str(auc))\n"
   ]
  },
  {
   "cell_type": "code",
   "execution_count": 14,
   "metadata": {},
   "outputs": [
    {
     "name": "stdout",
     "output_type": "stream",
     "text": [
      "Patient: [2, 180, 74, 24, 21, 45.9091702, 1.488172308, 22]\n"
     ]
    }
   ],
   "source": [
    "#### predict case\n",
    "x_new = [[2,180,74,24,21,45.9091702,1.488172308,22]]\n",
    "print ('Patient: {}'.format(x_new[0]))\n"
   ]
  },
  {
   "cell_type": "code",
   "execution_count": 15,
   "metadata": {},
   "outputs": [
    {
     "name": "stdout",
     "output_type": "stream",
     "text": [
      "Diabetes : [1]\n"
     ]
    }
   ],
   "source": [
    "y_pred = model.predict(x_new)\n",
    "print('Diabetes :', y_pred)"
   ]
  },
  {
   "cell_type": "code",
   "execution_count": null,
   "metadata": {},
   "outputs": [],
   "source": []
  }
 ],
 "metadata": {
  "kernelspec": {
   "display_name": "Python 3 (ipykernel)",
   "language": "python",
   "name": "python3"
  },
  "language_info": {
   "codemirror_mode": {
    "name": "ipython",
    "version": 3
   },
   "file_extension": ".py",
   "mimetype": "text/x-python",
   "name": "python",
   "nbconvert_exporter": "python",
   "pygments_lexer": "ipython3",
   "version": "3.9.7"
  }
 },
 "nbformat": 4,
 "nbformat_minor": 4
}
