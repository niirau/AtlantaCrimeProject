{
 "cells": [
  {
   "cell_type": "code",
   "execution_count": null,
   "id": "f118177f",
   "metadata": {},
   "outputs": [],
   "source": [
    "endpoint = '' #Replace with your endpoint\n",
    "key = '' #Replace with your key\n",
    "\n",
    "import json\n",
    "import requests\n",
    "\n",
    "#Features for prediction\n",
    "x = [{\"key\": 1,\n",
    "    \"datekey\":20220101]\n",
    "\n",
    "#Create a \"data\" JSON object\n",
    "input_json = json.dumps({\"data\": x})\n",
    "\n",
    "#Set the content type and authentication for the request\n",
    "headers = {\"Content-Type\":\"application/json\",\n",
    "           \"Authorization\":\"Bearer \" + key}\n",
    "\n",
    "#Send the request\n",
    "response = requests.post(endpoint, input_json, headers=headers)\n",
    "\n",
    "#If we got a valid response, display the predictions\n",
    "if response.status_code == 200:\n",
    "    y = json.loads(response.json())\n",
    "    #Get the first prediction in the results\n",
    "    print(\"Prediction:\", y[\"result\"][0])\n",
    "    if y[\"result\"][0] == 1:\n",
    "        print('Diabetic')\n",
    "    else:\n",
    "        print(\"Not Diabetic\")\n",
    "else:\n",
    "    print(response)"
   ]
  }
 ],
 "metadata": {
  "kernelspec": {
   "display_name": "Python 3 (ipykernel)",
   "language": "python",
   "name": "python3"
  },
  "language_info": {
   "codemirror_mode": {
    "name": "ipython",
    "version": 3
   },
   "file_extension": ".py",
   "mimetype": "text/x-python",
   "name": "python",
   "nbconvert_exporter": "python",
   "pygments_lexer": "ipython3",
   "version": "3.9.7"
  }
 },
 "nbformat": 4,
 "nbformat_minor": 5
}
